{
 "cells": [
  {
   "metadata": {},
   "cell_type": "markdown",
   "source": "",
   "id": "8a77807f92f26ee"
  },
  {
   "metadata": {},
   "cell_type": "code",
   "source": [
    "from bs4 import BeautifulSoup\n",
    "import requests"
   ],
   "id": "fbc121e30a2defb3",
   "outputs": [],
   "execution_count": null
  },
  {
   "metadata": {},
   "cell_type": "code",
   "source": [
    "url = 'https://en.wikipedia.org/wiki/List_of_largest_companies_by_revenue'\n",
    "\n",
    "page = requests.get(url)\n",
    "\n",
    "soup = BeautifulSoup(page.text, 'html')"
   ],
   "id": "8d08a9e4f3bf946",
   "outputs": [],
   "execution_count": null
  },
  {
   "metadata": {},
   "cell_type": "code",
   "source": "table = soup.find_all('table')[0]",
   "id": "4ba7c75a3c60df23",
   "outputs": [],
   "execution_count": null
  },
  {
   "metadata": {},
   "cell_type": "code",
   "source": "world_titles = table.find_all('th')",
   "id": "c1d5c983121d0f88",
   "outputs": [],
   "execution_count": null
  },
  {
   "metadata": {},
   "cell_type": "code",
   "source": "world_table_titles = [title.text.strip().removesuffix(\"[note 1]\") for title in world_titles][:7]",
   "id": "69db5c72db571a48",
   "outputs": [],
   "execution_count": null
  },
  {
   "metadata": {},
   "cell_type": "code",
   "source": "import pandas as pd",
   "id": "659f38f3c6ae2166",
   "outputs": [],
   "execution_count": null
  },
  {
   "metadata": {},
   "cell_type": "code",
   "source": "df = pd.DataFrame(columns=world_table_titles)",
   "id": "11a246a07fe5c8c9",
   "outputs": [],
   "execution_count": null
  },
  {
   "metadata": {},
   "cell_type": "code",
   "outputs": [],
   "execution_count": null,
   "source": "column_data = table.find_all('tr')[2:]",
   "id": "f2a0f7cb36af793"
  },
  {
   "metadata": {},
   "cell_type": "code",
   "outputs": [],
   "execution_count": null,
   "source": [
    "rank = 1\n",
    "for row in column_data:\n",
    "    row_data = row.find_all('td')\n",
    "    individual_row_data = [data.text.strip() for data in row_data][:-2]\n",
    "    individual_row_data.insert(0, rank)\n",
    "    if individual_row_data[2][1].isdigit():\n",
    "        individual_row_data.insert(2, iIndustry)\n",
    "    else:\n",
    "        iIndustry = individual_row_data[2].strip()\n",
    "    try:\n",
    "        iHeadquarters = individual_row_data[6].strip()\n",
    "    except:\n",
    "\t    individual_row_data.append(iHeadquarters.strip())\n",
    "    rank += 1\n",
    "\n",
    "    length = len(df)\n",
    "    df.loc[length] = individual_row_data\n",
    "df.drop_duplicates(inplace=True)"
   ],
   "id": "4418d4eb006e8e33"
  },
  {
   "metadata": {},
   "cell_type": "code",
   "source": "df.to_csv(r'data.csv', index=False)",
   "id": "a7b7d0942673838b",
   "outputs": [],
   "execution_count": null
  }
 ],
 "metadata": {
  "kernelspec": {
   "display_name": "Python 3",
   "language": "python",
   "name": "python3"
  },
  "language_info": {
   "codemirror_mode": {
    "name": "ipython",
    "version": 2
   },
   "file_extension": ".py",
   "mimetype": "text/x-python",
   "name": "python",
   "nbconvert_exporter": "python",
   "pygments_lexer": "ipython2",
   "version": "2.7.6"
  }
 },
 "nbformat": 4,
 "nbformat_minor": 5
}
